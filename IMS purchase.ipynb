{
 "cells": [
  {
   "cell_type": "markdown",
   "id": "7831c12e",
   "metadata": {},
   "source": [
    "# Read data from record"
   ]
  },
  {
   "cell_type": "code",
   "execution_count": 12,
   "id": "14c06185",
   "metadata": {},
   "outputs": [],
   "source": [
    "import json\n",
    "import time\n",
    "fd = open(\"record.json\",'r')\n",
    "data = fd.read()\n",
    "fd.close()\n",
    "\n",
    "\n",
    "records = json.loads(record)"
   ]
  },
  {
   "cell_type": "code",
   "execution_count": 14,
   "id": "ced950f2",
   "metadata": {},
   "outputs": [
    {
     "data": {
      "text/plain": [
       "{'1001': {'name': 'Barbon',\n",
       "  'catogary': 'Chocolate',\n",
       "  'price': 5,\n",
       "  'quantity': 50,\n",
       "  'discount': 0},\n",
       " '1002': {'name': 'Barbon',\n",
       "  'catogary': 'Chocolate',\n",
       "  'price': 10,\n",
       "  'quantity': 30,\n",
       "  'discount': 0},\n",
       " '1004': {'name': 'Dairy Milk',\n",
       "  'catogary': 'Chocolate',\n",
       "  'price': 10,\n",
       "  'quantity': 62,\n",
       "  'discount': 0},\n",
       " '1005': {'name': 'Kitkat',\n",
       "  'catogary': 'Chocolate',\n",
       "  'price': 5,\n",
       "  'quantity': 42,\n",
       "  'discount': 0},\n",
       " '1006': {'name': 'Kitkat',\n",
       "  'catogary': 'Chocolate',\n",
       "  'price': 20,\n",
       "  'quantity': 53,\n",
       "  'discount': 0},\n",
       " '1007': {'name': '5 star',\n",
       "  'catogary': 'Chocolate',\n",
       "  'price': 5,\n",
       "  'quantity': 100,\n",
       "  'discount': 0},\n",
       " '1008': {'name': 'Galaxy',\n",
       "  'catogary': 'Chocolate',\n",
       "  'price': 5,\n",
       "  'quantity': 230,\n",
       "  'discount': 0},\n",
       " '1009': {'name': 'Dairy Milk Silk',\n",
       "  'catogary': 'Chocolate',\n",
       "  'price': 50,\n",
       "  'quantity': 30,\n",
       "  'discount': 0},\n",
       " '1010': {'name': 'Nestle',\n",
       "  'catogary': 'Chocolate',\n",
       "  'price': 5,\n",
       "  'quantity': 23,\n",
       "  'discount': 0},\n",
       " '1011': {'name': 'Cadbury',\n",
       "  'catogary': 'Chocolate',\n",
       "  'price': 10,\n",
       "  'quantity': 150,\n",
       "  'discount': 0},\n",
       " '1012': {'name': 'Amul',\n",
       "  'catogary': 'Chocolate',\n",
       "  'price': 5,\n",
       "  'quantity': 20,\n",
       "  'discount': 0},\n",
       " '1013': {'name': 'Ferro Rocher',\n",
       "  'catogary': 'Chocolate',\n",
       "  'price': 15,\n",
       "  'quantity': 560,\n",
       "  'discount': 10},\n",
       " '1014': {'name': 'Hershey',\n",
       "  'catogary': 'Chocolate',\n",
       "  'price': 5,\n",
       "  'quantity': 500,\n",
       "  'discount': 5},\n",
       " '1015': {'name': 'Mars',\n",
       "  'catogary': 'Chocolate',\n",
       "  'price': 5,\n",
       "  'quantity': 102,\n",
       "  'discount': 0},\n",
       " '1016': {'name': 'Galaxy',\n",
       "  'catogary': 'Chocolate',\n",
       "  'price': 20,\n",
       "  'quantity': 80,\n",
       "  'discount': 0},\n",
       " '1017': {'name': 'Milkybar',\n",
       "  'catogary': 'Chocolate',\n",
       "  'price': 5,\n",
       "  'quantity': 90,\n",
       "  'discount': 0},\n",
       " '1018': {'name': 'Amul Dark Chocolate',\n",
       "  'catogary': 'Chocolate',\n",
       "  'price': 80,\n",
       "  'quantity': 70,\n",
       "  'discount': 0},\n",
       " '1019': {'name': 'Ferrero Rocher Chocolate Balls',\n",
       "  'catogary': 'Chocolate',\n",
       "  'price': 50,\n",
       "  'quantity': 150,\n",
       "  'discount': 0},\n",
       " '1020': {'name': 'Dairy Milk',\n",
       "  'catogary': 'Chocolate',\n",
       "  'price': 5,\n",
       "  'quantity': 50,\n",
       "  'discount': 0},\n",
       " '1021': {'name': 'Lottry Choco Pie',\n",
       "  'catogary': 'Cup Cake/Choco Pie',\n",
       "  'price': 10,\n",
       "  'quantity': 85,\n",
       "  'discount': 0},\n",
       " '1022': {'name': 'Sprite',\n",
       "  'catogary': 'Soft Drink',\n",
       "  'price': 90,\n",
       "  'quantity': 700,\n",
       "  'discount': 0},\n",
       " '1023': {'name': 'fruty',\n",
       "  'catogary': 'Soft Drink',\n",
       "  'price': 100,\n",
       "  'quantity': 750,\n",
       "  'discount': 0},\n",
       " '1024': {'name': 'Maza',\n",
       "  'catogary': 'Soft Drink',\n",
       "  'price': 90,\n",
       "  'quantity': 560,\n",
       "  'discount': 0},\n",
       " '1003': {'name': 'jellybean',\n",
       "  'catogary': 'chocolate',\n",
       "  'price': 10,\n",
       "  'quantity': 200,\n",
       "  'discount': 0}}"
      ]
     },
     "execution_count": 14,
     "metadata": {},
     "output_type": "execute_result"
    }
   ],
   "source": [
    "recods"
   ]
  },
  {
   "cell_type": "code",
   "execution_count": null,
   "id": "d3892d43",
   "metadata": {},
   "outputs": [],
   "source": []
  },
  {
   "cell_type": "markdown",
   "id": "699e3287",
   "metadata": {},
   "source": [
    "# Purchase"
   ]
  },
  {
   "cell_type": "code",
   "execution_count": null,
   "id": "22d58e2b",
   "metadata": {},
   "outputs": [],
   "source": [
    "# print(\"*********************************************\")\n",
    "print(\"          Welcome to Rishav Store           \\n\")\n",
    "\n",
    "i_prod  = str(input(\"Enter the product_Id: \"))\n",
    "i_quant = int(input(\"Enter the quantity: \"))\n",
    "\n",
    "\n",
    "print(\"Product: \", records[i_prod]['name'])\n",
    "print(\"Price: \", records[i_prod]['price'])\n",
    "print(\"Total Billing Amount: \", float(records[i_prod]['price']) * i_quant)\n",
    "\n",
    "records[i_prod]['quantity'] = records[i_prod]['quantity'] - i_quant\n",
    "print(time.ctime())\n",
    "print(\"\\n**********Thankyou**********\")"
   ]
  },
  {
   "cell_type": "code",
   "execution_count": null,
   "id": "4f98db52",
   "metadata": {},
   "outputs": [],
   "source": []
  },
  {
   "cell_type": "markdown",
   "id": "d81cf3e5",
   "metadata": {},
   "source": [
    "# Update Inventory after purchase"
   ]
  },
  {
   "cell_type": "code",
   "execution_count": 16,
   "id": "5a832495",
   "metadata": {},
   "outputs": [],
   "source": [
    "\n",
    "js = json.dumps(records)\n",
    "\n",
    "fd = open(\"data.json\",'w')\n",
    "fd.write(js)\n",
    "fd.close()"
   ]
  },
  {
   "cell_type": "markdown",
   "id": "9fbbe638",
   "metadata": {},
   "source": [
    "# Total sale"
   ]
  },
  {
   "cell_type": "code",
   "execution_count": 17,
   "id": "46dec8e1",
   "metadata": {},
   "outputs": [
    {
     "name": "stdout",
     "output_type": "stream",
     "text": [
      "Recent Sale of Today\n",
      " {\"1\": {\"prod\": \"1002\", \"quantity\": 3, \"amount\": 30}}\n",
      "Mon Sep  6 11:45:21 2021\n"
     ]
    }
   ],
   "source": [
    "sales = {1 : {'prod' : i_prod, 'quantity' : i_quant, 'amount': records[i_prod]['price'] * i_quant},\n",
    "         }\n",
    "sale = json.dumps(sales)\n",
    "print(\"Recent Sale of Today\\n\",sale)\n",
    "print(time.ctime())"
   ]
  },
  {
   "cell_type": "code",
   "execution_count": null,
   "id": "b7c5a5a6",
   "metadata": {},
   "outputs": [],
   "source": []
  }
 ],
 "metadata": {
  "kernelspec": {
   "display_name": "Python 3",
   "language": "python",
   "name": "python3"
  },
  "language_info": {
   "codemirror_mode": {
    "name": "ipython",
    "version": 3
   },
   "file_extension": ".py",
   "mimetype": "text/x-python",
   "name": "python",
   "nbconvert_exporter": "python",
   "pygments_lexer": "ipython3",
   "version": "3.8.8"
  }
 },
 "nbformat": 4,
 "nbformat_minor": 5
}
